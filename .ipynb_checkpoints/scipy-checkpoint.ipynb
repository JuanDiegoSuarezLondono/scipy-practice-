{
 "cells": [
  {
   "cell_type": "markdown",
   "id": "40375d9d",
   "metadata": {},
   "source": [
    "<h1 style=\"green\"><center>scipy study<center></h1>\n",
    "   "
   ]
  },
  {
   "cell_type": "markdown",
   "id": "615259ee",
   "metadata": {},
   "source": [
    "Open-source collection of Python libraries. Used for doing scientific and mathematical work."
   ]
  },
  {
   "cell_type": "code",
   "execution_count": 1,
   "id": "b9d85ca5",
   "metadata": {},
   "outputs": [],
   "source": [
    "import numpy as np"
   ]
  },
  {
   "cell_type": "markdown",
   "id": "ac04d05f",
   "metadata": {},
   "source": [
    "## scipy.Cluster\n",
    "Performing clustering task, which is the process of grouping similar objects into sets called \"custers\"."
   ]
  },
  {
   "cell_type": "markdown",
   "id": "346fd6c6",
   "metadata": {},
   "source": [
    "###  scipy.cluster.vq -> Vector Quantization\n",
    "Vector quantization is a method for reducing the dimensionality of data by representing a set of vectors with a smaller set of \"centroids\". The k-means algorithm is a clustering technique that groups data into k clusters, where k is a value specified by the user."
   ]
  },
  {
   "cell_type": "code",
   "execution_count": 8,
   "id": "4afd079e",
   "metadata": {},
   "outputs": [
    {
     "name": "stdout",
     "output_type": "stream",
     "text": [
      "Data:\n",
      "[[0.92785797 0.41706114]\n",
      " [0.20838637 0.51579132]\n",
      " [0.08643143 0.54314627]\n",
      " [0.12732341 0.09509994]\n",
      " [0.50389096 0.73223818]\n",
      " [0.34949528 0.85906413]\n",
      " [0.28604961 0.97702923]\n",
      " [0.13673865 0.2766562 ]\n",
      " [0.19966555 0.76757483]\n",
      " [0.69111076 0.17639276]\n",
      " [0.54746108 0.03620549]\n",
      " [0.79757373 0.34269374]\n",
      " [0.83938477 0.85022778]\n",
      " [0.38301245 0.78308887]\n",
      " [0.798491   0.74233175]\n",
      " [0.5976692  0.88148377]\n",
      " [0.14476947 0.76327524]\n",
      " [0.65342021 0.09294902]\n",
      " [0.01877825 0.93873979]\n",
      " [0.90142166 0.92864723]\n",
      " [0.67922868 0.71317017]\n",
      " [0.77292106 0.66832972]\n",
      " [0.48464305 0.11061127]\n",
      " [0.69236784 0.22982935]\n",
      " [0.78017169 0.95211257]\n",
      " [0.30853758 0.82468877]\n",
      " [0.16396282 0.47215369]\n",
      " [0.10110476 0.29796476]\n",
      " [0.06607708 0.04592436]\n",
      " [0.22431816 0.74563929]\n",
      " [0.11774235 0.8163099 ]\n",
      " [0.25056061 0.34026474]\n",
      " [0.05292942 0.79142058]\n",
      " [0.47418748 0.39158991]\n",
      " [0.38934875 0.20058244]\n",
      " [0.99758225 0.65579213]\n",
      " [0.50141491 0.15747349]\n",
      " [0.96560199 0.27475937]\n",
      " [0.1750963  0.43198583]\n",
      " [0.10739977 0.83386692]\n",
      " [0.42864152 0.94813363]\n",
      " [0.53166717 0.35612481]\n",
      " [0.38203931 0.10072477]\n",
      " [0.33729437 0.54405712]\n",
      " [0.70567096 0.17730357]\n",
      " [0.81579738 0.0718325 ]\n",
      " [0.3746618  0.73341191]\n",
      " [0.32192526 0.88999875]\n",
      " [0.33475026 0.09407329]\n",
      " [0.37053517 0.32815485]\n",
      " [0.65280144 0.40991527]\n",
      " [0.08532141 0.23341056]\n",
      " [0.79313177 0.56957639]\n",
      " [0.97570465 0.45816134]\n",
      " [0.42627008 0.54472515]\n",
      " [0.58889401 0.33588663]\n",
      " [0.7922811  0.47807935]\n",
      " [0.40609579 0.24300022]\n",
      " [0.38763702 0.31499173]\n",
      " [0.42974196 0.27305884]\n",
      " [0.93639616 0.14162852]\n",
      " [0.98653309 0.96389317]\n",
      " [0.76950717 0.18441663]\n",
      " [0.85422085 0.67249131]\n",
      " [0.30711095 0.6048536 ]\n",
      " [0.26562285 0.11525664]\n",
      " [0.04675418 0.73678376]\n",
      " [0.15974233 0.85140774]\n",
      " [0.62528064 0.07486906]\n",
      " [0.31428064 0.31509414]\n",
      " [0.37478395 0.48043351]\n",
      " [0.06191166 0.87759729]\n",
      " [0.93757616 0.52275675]\n",
      " [0.12961125 0.01519569]\n",
      " [0.2168217  0.95884617]\n",
      " [0.9021766  0.50847634]\n",
      " [0.68364829 0.58680753]\n",
      " [0.31162053 0.5782714 ]\n",
      " [0.48721921 0.20764067]\n",
      " [0.1599701  0.43829309]\n",
      " [0.60993038 0.16331676]\n",
      " [0.18825351 0.57029498]\n",
      " [0.29869332 0.44373731]\n",
      " [0.18411038 0.56937988]\n",
      " [0.86138571 0.59725664]\n",
      " [0.60178833 0.87444069]\n",
      " [0.09177188 0.30897209]\n",
      " [0.71069651 0.89593265]\n",
      " [0.96624079 0.99089597]\n",
      " [0.82317991 0.75258099]\n",
      " [0.71014731 0.19726723]\n",
      " [0.26886005 0.82273109]\n",
      " [0.19269335 0.71977532]\n",
      " [0.80299369 0.39552536]\n",
      " [0.45075447 0.60488064]\n",
      " [0.76996578 0.47243964]\n",
      " [0.7311665  0.0564728 ]\n",
      " [0.89789398 0.37472921]\n",
      " [0.55506914 0.45472186]\n",
      " [0.76727365 0.87689748]]\n",
      "Cluster Centers:\n",
      "[[0.23538976 0.72089256]\n",
      " [0.82802124 0.65776965]\n",
      " [0.45400489 0.21920625]]\n",
      "Cluster Labels:\n",
      "0.21344831993528002\n",
      "Assigned Clusters:\n",
      "[1 0 0 2 0 0 0 2 0 2 2 1 1 0 1 1 0 2 0 1 1 1 2 2 1 0 0 2 2 0 0 2 0 2 2 1 2\n",
      " 1 0 0 0 2 2 0 2 2 0 0 2 2 2 2 1 1 0 2 1 2 2 2 2 1 2 1 0 2 0 0 2 2 2 0 1 2\n",
      " 0 1 1 0 2 0 2 0 2 0 1 1 2 1 1 1 2 0 0 1 0 1 2 1 2 1]\n"
     ]
    }
   ],
   "source": [
    "from scipy.cluster.vq import vq, kmeans\n",
    "\n",
    "# Generate some sample data\n",
    "data = np.random.rand(100, 2)\n",
    "\n",
    "# Perform k-means clustering\n",
    "centroids, labels = kmeans(data, 3)\n",
    "# 'centroids' contains the coordinates of the cluster centers\n",
    "# 'labels' contains the assigned cluster label for each data point\n",
    "\n",
    "# Assign data points to the nearest cluster center\n",
    "cluster_indices, _ = vq(data, centroids)\n",
    "# 'cluster_indices' contains the index of the nearest cluster center for each data point\n",
    "\n",
    "# Print the results\n",
    "print(\"Data:\")\n",
    "print(data)\n",
    "print(\"Cluster Centers:\")\n",
    "print(centroids)\n",
    "print(\"Cluster Labels:\")\n",
    "print(labels)\n",
    "print(\"Assigned Clusters:\")\n",
    "print(cluster_indices)"
   ]
  },
  {
   "cell_type": "markdown",
   "id": "b15f8947",
   "metadata": {},
   "source": [
    "###  scipy.cluster.hierarchy -> Hierarchical and Agglomerative\n",
    "Hierarchical clustering is an approach that creates a cluster structure in the form of a hierarchical tree, also known as a dendrogram. This tree is constructed by gradually merging the most similar clusters or separating the most dissimilar clusters. The hierarchy module in scipy.cluster offers functions for generating hierarchical clusters from distance matrices, calculating statistics on the clusters, cutting links to generate flat clusters, and visualizing clusters using dendrograms."
   ]
  },
  {
   "cell_type": "code",
   "execution_count": 10,
   "id": "e290c056",
   "metadata": {},
   "outputs": [
    {
     "data": {
      "image/png": "[encoded data removed]",
      "text/plain": [
       "<Figure size 640x480 with 1 Axes>"
      ]
     },
     "metadata": {},
     "output_type": "display_data"
    }
   ],
   "source": [
    "from scipy.cluster.hierarchy import linkage, dendrogram\n",
    "\n",
    "# Generate some sample data\n",
    "data = np.random.rand(5, 2)\n",
    "\n",
    "# Perform hierarchical clustering\n",
    "Z = linkage(data, method='ward')\n",
    "# 'Z' contains the hierarchical clustering linkage matrix\n",
    "\n",
    "# Plot the dendrogram\n",
    "dendrogram(Z)\n",
    "\n",
    "# Display the dendrogram\n",
    "import matplotlib.pyplot as plt\n",
    "plt.show()"
   ]
  }
 ],
 "metadata": {
  "kernelspec": {
   "display_name": "Python 3 (ipykernel)",
   "language": "python",
   "name": "python3"
  },
  "language_info": {
   "codemirror_mode": {
    "name": "ipython",
    "version": 3
   },
   "file_extension": ".py",
   "mimetype": "text/x-python",
   "name": "python",
   "nbconvert_exporter": "python",
   "pygments_lexer": "ipython3",
   "version": "3.10.9"
  }
 },
 "nbformat": 4,
 "nbformat_minor": 5
}
